{
  "cells": [
    {
      "cell_type": "markdown",
      "metadata": {
        "id": "view-in-github",
        "colab_type": "text"
      },
      "source": [
        "<a href=\"https://colab.research.google.com/github/goldenemilly/logicaComputacional/blob/main/Unidad_1/03_Graficas_en_python.ipynb\" target=\"_parent\"><img src=\"https://colab.research.google.com/assets/colab-badge.svg\" alt=\"Open In Colab\"/></a>"
      ]
    },
    {
      "cell_type": "markdown",
      "metadata": {
        "id": "hVAd7dxM2V3w"
      },
      "source": [
        "Importamos algunas librerías auxiliares:"
      ]
    },
    {
      "cell_type": "code",
      "execution_count": 52,
      "metadata": {
        "id": "Y9GsCs4t2V3z"
      },
      "outputs": [],
      "source": [
        "import random\n",
        "import matplotlib.pyplot as plt\n",
        "import numpy as np\n",
        "import pandas as pd"
      ]
    },
    {
      "cell_type": "markdown",
      "metadata": {
        "id": "kV409qtgWjvp"
      },
      "source": [
        "Exploraremos algunas librerías y programas que nos pueden ayudar a manipular gráficas.\n",
        "\n",
        "# NetworkX\n",
        "\n",
        "La librería principal que utilizaremos será `networkx`:"
      ]
    },
    {
      "cell_type": "code",
      "execution_count": 53,
      "metadata": {
        "id": "cZOhQKmvWqRj"
      },
      "outputs": [],
      "source": [
        "import networkx as nx"
      ]
    },
    {
      "cell_type": "markdown",
      "metadata": {
        "id": "izRrCyhdXG_g"
      },
      "source": [
        "`networkx` proporciona clases para manejar distintos tipos de gráficas. Las que nos interesan son `Graph` y `DiGraph`:\n",
        "\n",
        "* `Graph`: Esta clase implementa una gráfica no dirigida, ignora aristas múltiples entre los vértices, y permite que haya aristas que con un mismo vértice en ambos extremos.\n",
        "\n",
        "* `DiGraph`: Como el nombre lo dice, esta nos permitirá trabajar con gráficas dirigidas.\n",
        "\n",
        "Esta librería nos permite que los vértices tomen diferentes valores, pueden ser strings, tuplas, enteros y más.\n",
        "\n",
        "Veamos ahora cómo crear y examinar elementos de una gráfica. Lo primero es crear nuestra gráfica $G$:"
      ]
    },
    {
      "cell_type": "code",
      "execution_count": 54,
      "metadata": {
        "id": "hLeVJt0iVcYz"
      },
      "outputs": [],
      "source": [
        "G = nx.Graph()"
      ]
    },
    {
      "cell_type": "markdown",
      "metadata": {
        "id": "g8lzr2s4VvUs"
      },
      "source": [
        "## Vértices\n",
        "\n",
        "Los vértices pueden tener como etiquetas objetos que puedan ser *hasheados* (i.e., `int`, `float`, `str` y `tuple`). Hay dos funciones para añadir vértices a la gráfica:\n",
        "\n",
        "* `add_node(n)`: Añade el vértice `n`.\n",
        "\n",
        "* `add_nodes_from(L)`: Añade todos los elementos de la lista `L` como vértices.\n",
        "\n",
        "Entonces, podemos hacer:"
      ]
    },
    {
      "cell_type": "code",
      "execution_count": 55,
      "metadata": {
        "id": "MW6gQYMuVkz5"
      },
      "outputs": [],
      "source": [
        "G.add_node(1)\n",
        "G.add_node('A')\n",
        "G.add_node((2,3))"
      ]
    },
    {
      "cell_type": "code",
      "execution_count": 56,
      "metadata": {
        "id": "wCj_YDY92V31"
      },
      "outputs": [],
      "source": [
        "G.add_nodes_from([5, 3.2, 'B', 'C'])"
      ]
    },
    {
      "cell_type": "markdown",
      "metadata": {
        "id": "3Ya7kP5U2V32"
      },
      "source": [
        "De igual manera, podemos pasar atributos adicionales que queremos que tenga el nodo como argumentos nombrados:"
      ]
    },
    {
      "cell_type": "code",
      "execution_count": 57,
      "metadata": {
        "id": "sETdhyKx2V32"
      },
      "outputs": [],
      "source": [
        "G.add_node('P', weight=5, height=9, x=1, y=0)"
      ]
    },
    {
      "cell_type": "markdown",
      "metadata": {
        "id": "kIMmEcru2V32"
      },
      "source": [
        "Podemos listar todos los vértices de la gráfica con `G.nodes`:"
      ]
    },
    {
      "cell_type": "code",
      "execution_count": 58,
      "metadata": {
        "id": "iKwDfuqM2V32",
        "outputId": "8b069382-3bc4-48ed-bbe3-61b9550319ae",
        "colab": {
          "base_uri": "https://localhost:8080/"
        }
      },
      "outputs": [
        {
          "output_type": "execute_result",
          "data": {
            "text/plain": [
              "NodeView((1, 'A', (2, 3), 5, 3.2, 'B', 'C', 'P'))"
            ]
          },
          "metadata": {},
          "execution_count": 58
        }
      ],
      "source": [
        "G.nodes"
      ]
    },
    {
      "cell_type": "markdown",
      "metadata": {
        "id": "M4R4EEAN2V33"
      },
      "source": [
        "Y accesar un nodo en específico como si fuese un diccionario:"
      ]
    },
    {
      "cell_type": "code",
      "execution_count": 59,
      "metadata": {
        "id": "j7mt7kJY2V33",
        "outputId": "55a77e79-c592-4ebd-8d8a-371186abdf78",
        "colab": {
          "base_uri": "https://localhost:8080/"
        }
      },
      "outputs": [
        {
          "output_type": "stream",
          "name": "stdout",
          "text": [
            "1: {}\n",
            "P: {'weight': 5, 'height': 9, 'x': 1, 'y': 0}\n"
          ]
        }
      ],
      "source": [
        "print(f\"1: {G.nodes[1]}\")\n",
        "print(f\"P: {G.nodes['P']}\")"
      ]
    },
    {
      "cell_type": "markdown",
      "metadata": {
        "id": "TGZTn2fR2V33"
      },
      "source": [
        "Finalmente, podemos visualizar nuestra gráfica usando `nx.draw`:"
      ]
    },
    {
      "cell_type": "code",
      "execution_count": 60,
      "metadata": {
        "colab": {
          "base_uri": "https://localhost:8080/",
          "height": 516
        },
        "outputId": "99ca134e-0c2d-4097-f0f1-9650eda4be14",
        "id": "xFOts0__2V33"
      },
      "outputs": [
        {
          "output_type": "display_data",
          "data": {
            "text/plain": [
              "<Figure size 640x480 with 1 Axes>"
            ],
            "image/png": "[encoded data removed]"
          },
          "metadata": {}
        }
      ],
      "source": [
        "nx.draw(\n",
        "    G,\n",
        "    with_labels=True,\n",
        "    font_weight=\"bold\",\n",
        "    font_color=\"black\"\n",
        ")"
      ]
    },
    {
      "cell_type": "markdown",
      "metadata": {
        "id": "6iokGb20W4kN"
      },
      "source": [
        "## Aristas\n",
        "\n",
        "Las aristas, al igual que los vértices, pueden agregarse de una en una, o por medio de una lista. Además de esto, las aristas declaradas no tienen que ser necesariamente entre vértices ya existentes, en caso de que los vértices utilizados no existan previamente, estos serán agregados a la gráfica."
      ]
    },
    {
      "cell_type": "code",
      "execution_count": 61,
      "metadata": {
        "id": "EtkRaAAA2V33"
      },
      "outputs": [],
      "source": [
        "G.add_edge(1, 5)"
      ]
    },
    {
      "cell_type": "code",
      "execution_count": 62,
      "metadata": {
        "id": "-7eDyJYO2V34"
      },
      "outputs": [],
      "source": [
        "G.add_edge(1, \"hola\")"
      ]
    },
    {
      "cell_type": "code",
      "execution_count": 63,
      "metadata": {
        "id": "cYlc334v2V34"
      },
      "outputs": [],
      "source": [
        "G.add_edge(\"asd\", \"fgh\")"
      ]
    },
    {
      "cell_type": "code",
      "execution_count": 64,
      "metadata": {
        "id": "Lx6XlhdY2V34",
        "outputId": "f12da4e4-df2c-40d9-fb9e-3edbdce883fc",
        "colab": {
          "base_uri": "https://localhost:8080/",
          "height": 516
        }
      },
      "outputs": [
        {
          "output_type": "display_data",
          "data": {
            "text/plain": [
              "<Figure size 640x480 with 1 Axes>"
            ],
            "image/png": "[encoded data removed]"
          },
          "metadata": {}
        }
      ],
      "source": [
        "nx.draw(\n",
        "    G,\n",
        "    with_labels=True,\n",
        "    font_weight='bold'\n",
        ")"
      ]
    },
    {
      "cell_type": "markdown",
      "metadata": {
        "id": "vb-oZJoN2V34"
      },
      "source": [
        "Al igual que con los vértices, podemos pasar atributos de aristas a la función:"
      ]
    },
    {
      "cell_type": "code",
      "execution_count": 65,
      "metadata": {
        "id": "z31sho7B2V34"
      },
      "outputs": [],
      "source": [
        "G.add_edge(3, 7, costo=16)"
      ]
    },
    {
      "cell_type": "markdown",
      "metadata": {
        "id": "1yaIhafV2V34"
      },
      "source": [
        "Un atributo muy importante es el **peso**, ya que se usa para muchos algoritmos. Podemos pasarlo como un atributo normal:"
      ]
    },
    {
      "cell_type": "code",
      "execution_count": 66,
      "metadata": {
        "id": "2Ftn8qL72V34"
      },
      "outputs": [],
      "source": [
        "G.add_edge(1, 2, weight=5)"
      ]
    },
    {
      "cell_type": "code",
      "execution_count": 67,
      "metadata": {
        "id": "rm9DVOQh2V34"
      },
      "outputs": [],
      "source": [
        "G.add_edges_from([(1, 2), (3, 5), (5, 7), (\"a\", \"z\")])"
      ]
    },
    {
      "cell_type": "code",
      "execution_count": 68,
      "metadata": {
        "id": "iSSW0JbZ2V35",
        "outputId": "e395e2f6-f6c1-4df2-e895-1d63bb26ecc6",
        "colab": {
          "base_uri": "https://localhost:8080/",
          "height": 516
        }
      },
      "outputs": [
        {
          "output_type": "display_data",
          "data": {
            "text/plain": [
              "<Figure size 640x480 with 1 Axes>"
            ],
            "image/png": "[encoded data removed]"
          },
          "metadata": {}
        }
      ],
      "source": [
        "nx.draw(\n",
        "    G,\n",
        "    with_labels=True,\n",
        "    font_weight='bold'\n",
        ")"
      ]
    },
    {
      "cell_type": "markdown",
      "metadata": {
        "id": "nYcAUjtQ2V35"
      },
      "source": [
        "O, si queremos añadir varias aristas pesadas, usamos `add_weighted_edges_from`:"
      ]
    },
    {
      "cell_type": "code",
      "execution_count": 69,
      "metadata": {
        "id": "8FBXtJS02V35"
      },
      "outputs": [],
      "source": [
        "G.add_weighted_edges_from([(2, 3, 2), (1, 'A', 3)])"
      ]
    },
    {
      "cell_type": "code",
      "execution_count": 70,
      "metadata": {
        "id": "KTqWOOB42V35",
        "outputId": "4489e098-1fc0-493b-9486-6b2168bb7136",
        "colab": {
          "base_uri": "https://localhost:8080/",
          "height": 516
        }
      },
      "outputs": [
        {
          "output_type": "display_data",
          "data": {
            "text/plain": [
              "<Figure size 640x480 with 1 Axes>"
            ],
            "image/png": "[encoded data removed]"
          },
          "metadata": {}
        }
      ],
      "source": [
        "nx.draw(\n",
        "    G,\n",
        "    with_labels=True,\n",
        "    font_weight='bold'\n",
        ")"
      ]
    },
    {
      "cell_type": "markdown",
      "metadata": {
        "id": "AhFaF6Vt2V35"
      },
      "source": [
        "Podemos obtener una variedad de atributos de la gráfica:"
      ]
    },
    {
      "cell_type": "code",
      "execution_count": 71,
      "metadata": {
        "id": "TARAq8X-2V35",
        "outputId": "4d7148f3-3737-4c09-a5a5-e0a6b3f5e830",
        "colab": {
          "base_uri": "https://localhost:8080/"
        }
      },
      "outputs": [
        {
          "output_type": "execute_result",
          "data": {
            "text/plain": [
              "{'weight': 2}"
            ]
          },
          "metadata": {},
          "execution_count": 71
        }
      ],
      "source": [
        "G.edges[(2, 3)]"
      ]
    },
    {
      "cell_type": "code",
      "execution_count": 72,
      "metadata": {
        "id": "qQdp-H8I2V36",
        "outputId": "f334c8a3-af0c-45cc-d924-eecc566d5c6c",
        "colab": {
          "base_uri": "https://localhost:8080/"
        }
      },
      "outputs": [
        {
          "output_type": "execute_result",
          "data": {
            "text/plain": [
              "AtlasView({5: {}, 'hola': {}, 2: {'weight': 5}, 'A': {'weight': 3}})"
            ]
          },
          "metadata": {},
          "execution_count": 72
        }
      ],
      "source": [
        "G.adj[1]"
      ]
    },
    {
      "cell_type": "code",
      "execution_count": 73,
      "metadata": {
        "colab": {
          "base_uri": "https://localhost:8080/"
        },
        "id": "ea3Fha8KW3Y_",
        "outputId": "b537c4aa-5fa7-4cfe-9063-e679220a3795"
      },
      "outputs": [
        {
          "output_type": "stream",
          "name": "stdout",
          "text": [
            "Lista de los grados por cada vértice: [(1, 4), ('A', 1), ((2, 3), 0), (5, 3), (3.2, 0), ('B', 0), ('C', 0), ('P', 0), ('hola', 1), ('asd', 1), ('fgh', 1), (3, 3), (7, 2), (2, 2), ('a', 1), ('z', 1)]\n",
            "Grado del vértice A: 1\n",
            "\n",
            "Atributos asignado a arista (1, 2): {'weight': 5}\n",
            "\n",
            "Atributos asignado a arista (2, 1): {'weight': 5}\n",
            "\n",
            "Lista de vértices adyacentes a 1, con atributos: {5: {}, 'hola': {}, 2: {'weight': 5}, 'A': {'weight': 3}}\n"
          ]
        }
      ],
      "source": [
        "print(\n",
        "f\"\"\"Lista de los grados por cada vértice: {G.degree}\n",
        "Grado del vértice A: {G.degree['A']}\n",
        "\n",
        "Atributos asignado a arista (1, 2): {G.edges[1, 2]}\n",
        "\n",
        "Atributos asignado a arista (2, 1): {G.edges[2, 1]}\n",
        "\n",
        "Lista de vértices adyacentes a 1, con atributos: {G.adj[1]}\"\"\")"
      ]
    },
    {
      "cell_type": "markdown",
      "metadata": {
        "id": "sUvsjLKcoio7"
      },
      "source": [
        "## Digráficas\n",
        "\n",
        "En este caso, las aristas tienen dirección, así que la arista `(1,2)` es diferente de la `(2,1)`:"
      ]
    },
    {
      "cell_type": "markdown",
      "metadata": {
        "id": "l3sahI222V36"
      },
      "source": [
        "* Ingrado (`indegree`): Número de aristas que apuntan al nodo.\n",
        "* Exgrado (`outdegree`): Número de aristas que salen del nodo.\n",
        "* `Ingrado + Exgrado = Grado`"
      ]
    },
    {
      "cell_type": "code",
      "execution_count": 74,
      "metadata": {
        "id": "h2y1u_H5peb3"
      },
      "outputs": [],
      "source": [
        "DG = nx.DiGraph()"
      ]
    },
    {
      "cell_type": "code",
      "execution_count": 75,
      "metadata": {
        "id": "xacW2ln42V37"
      },
      "outputs": [],
      "source": [
        "DG.add_nodes_from(range(5))"
      ]
    },
    {
      "cell_type": "code",
      "execution_count": 76,
      "metadata": {
        "id": "WEhtZKf52V37",
        "outputId": "0996827f-de0d-40c4-bf66-3871ba0b44cd",
        "colab": {
          "base_uri": "https://localhost:8080/",
          "height": 516
        }
      },
      "outputs": [
        {
          "output_type": "display_data",
          "data": {
            "text/plain": [
              "<Figure size 640x480 with 1 Axes>"
            ],
            "image/png": "[encoded data removed]"
          },
          "metadata": {}
        }
      ],
      "source": [
        "nx.draw(DG, with_labels=True)"
      ]
    },
    {
      "cell_type": "code",
      "execution_count": 77,
      "metadata": {
        "id": "O7GMa4aE2V37"
      },
      "outputs": [],
      "source": [
        "DG.add_edges_from([(1, 2), (4, 1), (2, 3), (2, 1), (3, 0)])"
      ]
    },
    {
      "cell_type": "code",
      "execution_count": 78,
      "metadata": {
        "id": "ZhC0Vgbp2V37",
        "outputId": "8c6155be-9061-4492-c244-02fd04e27917",
        "colab": {
          "base_uri": "https://localhost:8080/",
          "height": 516
        }
      },
      "outputs": [
        {
          "output_type": "display_data",
          "data": {
            "text/plain": [
              "<Figure size 640x480 with 1 Axes>"
            ],
            "image/png": "[encoded data removed]"
          },
          "metadata": {}
        }
      ],
      "source": [
        "nx.draw(DG, with_labels=True)"
      ]
    },
    {
      "cell_type": "code",
      "execution_count": 79,
      "metadata": {
        "colab": {
          "base_uri": "https://localhost:8080/",
          "height": 788
        },
        "outputId": "f93f23c1-9d50-4da4-b636-7b9f8b184c5e",
        "id": "9SYIdm-A2V37"
      },
      "outputs": [
        {
          "output_type": "stream",
          "name": "stdout",
          "text": [
            "Vértices: [0, 1, 2, 3, 4]\n",
            "\n",
            "Aristas: [(1, 2), (2, 3), (2, 1), (3, 0), (4, 1)]\n",
            "\n",
            "Ingrados: [(0, 1), (1, 2), (2, 1), (3, 1), (4, 0)]\n",
            "\n",
            "Exgrados: [(0, 0), (1, 1), (2, 2), (3, 1), (4, 1)]\n",
            "\n",
            "Ingrado de un vértice en particular: 2\n",
            "\n",
            "Sucesores del vértice 1: [2]\n",
            "\n",
            "Vértices adyacentes a 1 : {2: {}}\n",
            "\n",
            "Aristas que entran a 1: [(4, 1), (2, 1)]\n",
            "\n"
          ]
        },
        {
          "output_type": "display_data",
          "data": {
            "text/plain": [
              "<Figure size 640x480 with 1 Axes>"
            ],
            "image/png": "[encoded data removed]"
          },
          "metadata": {}
        }
      ],
      "source": [
        "print(\n",
        "f\"\"\"Vértices: {DG.nodes}\\n\n",
        "Aristas: {DG.edges}\\n\n",
        "Ingrados: {DG.in_degree}\\n\n",
        "Exgrados: {DG.out_degree}\\n\n",
        "Ingrado de un vértice en particular: {DG.in_degree[1]}\\n\n",
        "Sucesores del vértice 1: {list(DG.successors(1))}\\n\n",
        "Vértices adyacentes a 1 : {DG.adj[1]}\\n\n",
        "Aristas que entran a 1: {DG.in_edges(1)}\n",
        "\"\"\")\n",
        "\n",
        "nx.draw(\n",
        "    DG,\n",
        "    with_labels=True,\n",
        "    font_weight='bold'\n",
        ")"
      ]
    },
    {
      "cell_type": "markdown",
      "metadata": {
        "id": "cezHUhyh0I2x"
      },
      "source": [
        "Además de lo que hemos visto, también se pueden eliminar objetos de la gráfica. Por ejemplo si removemos el vértice $1$ de $DG$ se elimina este vértice junto con todas las aristas que lo involucran:"
      ]
    },
    {
      "cell_type": "code",
      "execution_count": 80,
      "metadata": {
        "colab": {
          "base_uri": "https://localhost:8080/",
          "height": 550
        },
        "id": "eKK7OBIT0Z9Z",
        "outputId": "e899da51-ad11-404a-857c-a7ea922f8fd6"
      },
      "outputs": [
        {
          "output_type": "stream",
          "name": "stdout",
          "text": [
            "Vértices: [0, 2, 3, 4]\n",
            "Aristas: [(2, 3), (3, 0)]\n"
          ]
        },
        {
          "output_type": "display_data",
          "data": {
            "text/plain": [
              "<Figure size 640x480 with 1 Axes>"
            ],
            "image/png": "[encoded data removed]"
          },
          "metadata": {}
        }
      ],
      "source": [
        "DG.remove_node(1)\n",
        "\n",
        "print(f\"Vértices: {DG.nodes}\")\n",
        "print(f\"Aristas: {DG.edges}\")\n",
        "nx.draw(\n",
        "    DG,\n",
        "    with_labels=True,\n",
        "    font_weight='bold'\n",
        ")"
      ]
    },
    {
      "cell_type": "markdown",
      "metadata": {
        "id": "ZQXo8GQZ1hvS"
      },
      "source": [
        "Ahora, construiremos una gráfica tal que dado un entero $n$, sea un ciclo de longitud $n$. Notemos que un polígono regular de $n$ lados con sus vértices numerados del $0$ al $n-1$ es una representación posible de dicha gráfica."
      ]
    },
    {
      "cell_type": "code",
      "execution_count": 81,
      "metadata": {
        "colab": {
          "base_uri": "https://localhost:8080/",
          "height": 516
        },
        "id": "-zDLwq2G5tef",
        "outputId": "cde5889b-1491-4bd9-a0b4-5673f973d9b3"
      },
      "outputs": [
        {
          "output_type": "display_data",
          "data": {
            "text/plain": [
              "<Figure size 640x480 with 1 Axes>"
            ],
            "image/png": "[encoded data removed]"
          },
          "metadata": {}
        }
      ],
      "source": [
        "C = nx.Graph()\n",
        "n = 10\n",
        "\n",
        "for i in range(n):\n",
        "    C.add_edge(i, (i+1)%n)\n",
        "\n",
        "nx.draw(\n",
        "    C,\n",
        "    with_labels=True,\n",
        "    font_weight='bold'\n",
        ")"
      ]
    },
    {
      "cell_type": "markdown",
      "metadata": {
        "id": "YlWYd77tKuAh"
      },
      "source": [
        "## Generadores\n",
        "\n",
        "Finalmente, introduciremos formas de crear gráficas de manera automática. Esto sirve para poder probar nuestros códigos en gráficas arbitrarias, o que cumplan cierto requisito muy especial, como ser un árbol.\n",
        "\n",
        "Primero, construyamos una gráfica puramente aleatoria, con $n$ vértices y una probabilidad $p$ de que cada par de vértices esté conectado:"
      ]
    },
    {
      "cell_type": "code",
      "execution_count": 82,
      "metadata": {
        "id": "9hWAioqB2V38",
        "outputId": "6faa897a-76b9-450d-c17a-3d4ef59b4328",
        "colab": {
          "base_uri": "https://localhost:8080/",
          "height": 516
        }
      },
      "outputs": [
        {
          "output_type": "display_data",
          "data": {
            "text/plain": [
              "<Figure size 640x480 with 1 Axes>"
            ],
            "image/png": "[encoded data removed]"
          },
          "metadata": {}
        }
      ],
      "source": [
        "m = 15\n",
        "p = 0.4\n",
        "g = nx.gnp_random_graph(m, p)\n",
        "nx.draw(g)"
      ]
    },
    {
      "cell_type": "markdown",
      "metadata": {
        "id": "1fAoTxZq2V38"
      },
      "source": [
        "También podemos construir un árbol (gráfica en la cual cada par de vértices está conectado por a lo mucho una arista)."
      ]
    },
    {
      "cell_type": "code",
      "execution_count": 83,
      "metadata": {
        "id": "RIFrOv242V38",
        "outputId": "3da8fe78-c644-4a37-eac7-31905186f7ee",
        "colab": {
          "base_uri": "https://localhost:8080/",
          "height": 173
        }
      },
      "outputs": [
        {
          "output_type": "error",
          "ename": "AttributeError",
          "evalue": "module 'networkx' has no attribute 'random_tree'",
          "traceback": [
            "\u001b[0;31m---------------------------------------------------------------------------\u001b[0m",
            "\u001b[0;31mAttributeError\u001b[0m                            Traceback (most recent call last)",
            "\u001b[0;32m/tmp/ipython-input-2337291510.py\u001b[0m in \u001b[0;36m<cell line: 0>\u001b[0;34m()\u001b[0m\n\u001b[1;32m      1\u001b[0m \u001b[0mn\u001b[0m \u001b[0;34m=\u001b[0m \u001b[0;36m15\u001b[0m\u001b[0;34m\u001b[0m\u001b[0;34m\u001b[0m\u001b[0m\n\u001b[0;32m----> 2\u001b[0;31m \u001b[0mg\u001b[0m \u001b[0;34m=\u001b[0m \u001b[0mnx\u001b[0m\u001b[0;34m.\u001b[0m\u001b[0mrandom_tree\u001b[0m\u001b[0;34m(\u001b[0m\u001b[0mn\u001b[0m\u001b[0;34m)\u001b[0m\u001b[0;34m\u001b[0m\u001b[0;34m\u001b[0m\u001b[0m\n\u001b[0m\u001b[1;32m      3\u001b[0m \u001b[0mnx\u001b[0m\u001b[0;34m.\u001b[0m\u001b[0mdraw\u001b[0m\u001b[0;34m(\u001b[0m\u001b[0mg\u001b[0m\u001b[0;34m)\u001b[0m\u001b[0;34m\u001b[0m\u001b[0;34m\u001b[0m\u001b[0m\n",
            "\u001b[0;31mAttributeError\u001b[0m: module 'networkx' has no attribute 'random_tree'"
          ]
        }
      ],
      "source": [
        "n = 15\n",
        "g = nx.random_tree(n)\n",
        "nx.draw(g)"
      ]
    },
    {
      "cell_type": "markdown",
      "metadata": {
        "id": "w_-k3vNs2V38"
      },
      "source": [
        "O una gráfica completa (gráfica en la cual cada nodo está conectado a todos los demás)."
      ]
    },
    {
      "cell_type": "code",
      "execution_count": null,
      "metadata": {
        "tags": [],
        "id": "0GTig_ES2V38"
      },
      "outputs": [],
      "source": [
        "n = 10\n",
        "g = nx.complete_graph(n)\n",
        "nx.draw(g)"
      ]
    },
    {
      "cell_type": "markdown",
      "metadata": {
        "id": "Yux1ZuB72V38"
      },
      "source": [
        "$K_{10}$"
      ]
    },
    {
      "cell_type": "markdown",
      "metadata": {
        "id": "sAi3CsU42V38"
      },
      "source": [
        "# Graficación\n",
        "\n",
        "Como vimos anteriormente, usamos el comando `nx.draw` para dibujar nuestras gráficas. Este acepta una variedad de argumentos para definir distintas partes del formato, como colores, grosor, fuentes, etc.\n",
        "\n",
        "Otra característica importante que podemos controlar es el *layout* de la gráfica, i.e., cómo se distribuyen los nodos en el plano. Idealmente, un buen arreglo hace que las relaciones entre los elementos sean evidentes, procurando que no se encimen o se vea muy amontonado.\n",
        "\n",
        "Primero, generamos una gráfica aleatoria:"
      ]
    },
    {
      "cell_type": "code",
      "execution_count": null,
      "metadata": {
        "id": "FN8B6Z1H2V38"
      },
      "outputs": [],
      "source": [
        "g = nx.gnp_random_graph(30, 0.12)"
      ]
    },
    {
      "cell_type": "markdown",
      "metadata": {
        "id": "Mik20l3p2V38"
      },
      "source": [
        "Calculamos algunos arreglos usando las funciones proporcionadas por `networkx` (https://networkx.org/documentation/stable/reference/drawing.html):"
      ]
    },
    {
      "cell_type": "code",
      "execution_count": null,
      "metadata": {
        "id": "uvGHJytT2V38"
      },
      "outputs": [],
      "source": [
        "lay = nx.spiral_layout(g)"
      ]
    },
    {
      "cell_type": "code",
      "execution_count": null,
      "metadata": {
        "id": "MMNKtFEk2V38"
      },
      "outputs": [],
      "source": [
        "L = [[None, None], [None, None]]\n",
        "L[0][0] = nx.spring_layout(g)\n",
        "L[0][1] = nx.spiral_layout(g)\n",
        "L[1][0] = nx.random_layout(g)\n",
        "L[1][1] = nx.circular_layout(g)"
      ]
    },
    {
      "cell_type": "markdown",
      "metadata": {
        "id": "XDQAfXJE2V38"
      },
      "source": [
        "Y luego los pasamos al argumento `pos` de `nx.draw`:"
      ]
    },
    {
      "cell_type": "code",
      "execution_count": null,
      "metadata": {
        "id": "cidjik282V38"
      },
      "outputs": [],
      "source": [
        "fig, ax = plt.subplots(2, 2, figsize=(10,10))\n",
        "for i in range(4):\n",
        "    nx.draw(g, pos=L[i//2][i%2], ax=ax[i//2, i%2])"
      ]
    },
    {
      "cell_type": "markdown",
      "metadata": {
        "id": "rUcFaAwq2V38"
      },
      "source": [
        "# Representaciones\n",
        "\n",
        "Existen muchas maneras de representar una gráfica de forma que pueda guardarse a un archivo. Para entender las diferencias entre cada una, tomemos la siguiente gráfica:"
      ]
    },
    {
      "cell_type": "code",
      "execution_count": null,
      "metadata": {
        "id": "oR0ZugnV2V39"
      },
      "outputs": [],
      "source": [
        "g = nx.Graph()\n",
        "g.add_edges_from([(0,1), (1,2), (0,2), (0,3)])\n",
        "nx.draw(g, with_labels=True)"
      ]
    },
    {
      "cell_type": "markdown",
      "metadata": {
        "id": "ao47X-OA2V39"
      },
      "source": [
        "### Lista de adyacencia\n",
        "\n",
        "Cada línea representa un nodo diferente. La primera entrada indica qué nodo es, y todas las demás los otros nodos a los que está conectado."
      ]
    },
    {
      "cell_type": "code",
      "execution_count": null,
      "metadata": {
        "id": "fqM-3k4F2V39"
      },
      "outputs": [],
      "source": [
        "nx.write_adjlist(g, \"./ejemplos/adjlist.txt\")"
      ]
    },
    {
      "cell_type": "markdown",
      "metadata": {
        "id": "_qP4HN_o2V39"
      },
      "source": [
        "### Lista de aristas\n",
        "\n",
        "Cada línea tiene tres entradas que representan a una arista: el nodo de origen, el nodo de destino, y todas las propiedades de la arista en forma de un diccionario."
      ]
    },
    {
      "cell_type": "code",
      "execution_count": null,
      "metadata": {
        "id": "GpNuhowu2V39"
      },
      "outputs": [],
      "source": [
        "nx.write_edgelist(g, \"./ejemplos/edgelist.txt\")"
      ]
    },
    {
      "cell_type": "markdown",
      "metadata": {
        "id": "iwbSWt542V39"
      },
      "source": [
        "Si tenemos un archivo generado de esta manera, podemos leerlo con el correspondiente comando `nx.read_*` (i.e., `nx.read_adjlist, nx.read_edgelist`, etc.)\n",
        "\n",
        "Para consultar una lista de todos los formatos que acepta `networkx`, véase https://networkx.org/documentation/stable/reference/readwrite/index.html"
      ]
    },
    {
      "cell_type": "markdown",
      "metadata": {
        "id": "0oTzsJcX2V39"
      },
      "source": [
        "# Herramientas"
      ]
    },
    {
      "cell_type": "markdown",
      "metadata": {
        "id": "W1fGd5592V39"
      },
      "source": [
        "## pyvis\n",
        "\n",
        "Si bien `networkx` es muy bueno para crear y manipular gráficas, sus capacidades de graficación son un tanto deficientes. Una librería que busca resolver esto es `pyvis`."
      ]
    },
    {
      "cell_type": "code",
      "execution_count": null,
      "metadata": {
        "id": "NwhDMJnF2V39"
      },
      "outputs": [],
      "source": [
        "import pyvis"
      ]
    },
    {
      "cell_type": "markdown",
      "metadata": {
        "id": "yDQuWMD02V39"
      },
      "source": [
        "`pyvis` maneja las gráficas de manera diferente que `networkx`, así que tendríamos que leer la documentación si queremos crear una desde cero. Por suerte, `pivis` provee funciones para convertir gráficas de `networkx` a su formato.\n",
        "\n",
        "En vez de trabajar con una gráfica aleatoria, importemos un archivo que cuenta el número de veces que interactuaron los personajes en la serie de televisión Game of Thrones:"
      ]
    },
    {
      "cell_type": "code",
      "execution_count": null,
      "metadata": {
        "id": "FIYSlb7i2V39"
      },
      "outputs": [],
      "source": [
        "df = pd.read_csv(\n",
        "    \"https://github.com/pupimvictor/NetworkOfThrones/raw/master/stormofswords.csv\")\n",
        "df"
      ]
    },
    {
      "cell_type": "markdown",
      "metadata": {
        "id": "vLvFAGDH2V39"
      },
      "source": [
        "Para más detalles, pueden leer el post original: https://www.lyonwj.com/blog/graph-of-thrones-neo4j-social-network-analysis\n",
        "\n",
        "Podemos convertir esta DataFrame a una gráfica usando `nx.from_pandas_edgelist`. Sin embargo, esta función requiere que las columnas tengan como nombre `source`, `target` y `weight`, así que las renombramos:"
      ]
    },
    {
      "cell_type": "code",
      "execution_count": null,
      "metadata": {
        "id": "hs_Bmqmz2V39"
      },
      "outputs": [],
      "source": [
        "df.columns = ['source', 'target', 'weight']\n",
        "\n",
        "g = nx.from_pandas_edgelist(df)\n",
        "fig, ax = plt.subplots(figsize=(10,10))\n",
        "nx.draw(g, with_labels=True, ax=ax)"
      ]
    },
    {
      "cell_type": "markdown",
      "metadata": {
        "id": "lHmI_KEu2V39"
      },
      "source": [
        "Ahora, importamos las clases necesarias:"
      ]
    },
    {
      "cell_type": "code",
      "execution_count": null,
      "metadata": {
        "id": "gpbW0V8W2V39"
      },
      "outputs": [],
      "source": [
        "from pyvis.network import Network"
      ]
    },
    {
      "cell_type": "markdown",
      "metadata": {
        "id": "Rfp7Aw4G2V39"
      },
      "source": [
        "Creamos una gráfica de `pyvis` vacía y la llenamos con nuestra gráfica de `networkx`:"
      ]
    },
    {
      "cell_type": "code",
      "execution_count": null,
      "metadata": {
        "id": "oyOyMAfu2V39"
      },
      "outputs": [],
      "source": [
        "nt = Network(\"800px\", \"800px\", notebook=True)\n",
        "nt.from_nx(g)"
      ]
    },
    {
      "cell_type": "markdown",
      "metadata": {
        "id": "z1_zOl9w2V3-"
      },
      "source": [
        "Guardamos el resultado como un archivo HTML, que después podemos abrir con cualquier navegador:"
      ]
    },
    {
      "cell_type": "code",
      "execution_count": null,
      "metadata": {
        "id": "eJW6N1Az2V3-"
      },
      "outputs": [],
      "source": [
        "%%capture\n",
        "nt.show(\"./ejemplos/graph.html\")"
      ]
    },
    {
      "cell_type": "markdown",
      "metadata": {
        "id": "qrLIoXux2V3-"
      },
      "source": [
        "## Gephi/Cytoscape\n",
        "\n",
        "Gephi y Cytoscape son dos programas diseñados exclusivamente para la visualización y manipulación de gráficas. Una ventaja que tienen sobre `networkx` o `pyvis` es que poseen poderosos algoritmos de organización, para poder ordenar los nodos de una forma que se vea bien\n",
        "\n",
        "Para poder transferir una gráfica de `networkx` a cualquiera de estos *software*, la forma más sencilla es usando un archivo `.graphml`, el cual podemos escribir usando `nx.write_graphml`:"
      ]
    },
    {
      "cell_type": "code",
      "execution_count": null,
      "metadata": {
        "id": "MoDPE0bF2V3-"
      },
      "outputs": [],
      "source": [
        "nx.write_graphml(g, \"./ejemplos/out.graphml\")"
      ]
    },
    {
      "cell_type": "markdown",
      "metadata": {
        "id": "vfED0GZK2V3-"
      },
      "source": [
        "Luego, simplemente lo abrimos como un archivo normal en cualquiera de los programas anteriores."
      ]
    },
    {
      "cell_type": "markdown",
      "metadata": {
        "id": "I-MXQ8WM2V3-"
      },
      "source": [
        "## Graphistry"
      ]
    },
    {
      "cell_type": "markdown",
      "metadata": {
        "id": "v99Ku3sn2V3-"
      },
      "source": [
        "## Notas\n",
        "\n",
        "* Gephi en mi opinión produce las mejores visualizaciones, aunque no puede manejar gráficas muy grandes, por lo cual en ese caso es mejor usar Cytoscape.\n",
        "\n",
        "* Gephi dejó de ser actualizado hace tiempo (2017), y solo soporta Java 8. Adicionalmente, presenta problemas al correr en Linux. En caso de que tengan este sistema operativo y no puedan ver las gráficas, una posible solución es ejecutar `export LIBGL_ALWAYS_SOFTWARE=1` en la terminal antes de correr Gephi."
      ]
    },
    {
      "cell_type": "markdown",
      "metadata": {
        "id": "A0LPD_bE6sAo"
      },
      "source": [
        "# Ejercicios"
      ]
    },
    {
      "cell_type": "markdown",
      "metadata": {
        "id": "tf0Z3FmN2V3-"
      },
      "source": [
        "## Ejercicio 1\n",
        "\n",
        "Escribe una función tal que, para un $n$ dado, genere una gráfica de $2n$ vértices que pueda representarse como un polígono regular, con sus vértices etiquetados desde el 0 hasta el $2n-1$, de modo que los lados representen aristas, y que los vértices diametralmente opuestos también sean adyacentes.\n",
        "\n",
        "Posteriormente, grafica esta gráfica, de modo que el polígono sea claramente visible y tenga la forma correcta. Deberás de utilizar el atributo `pos` de la función `nx.draw`."
      ]
    },
    {
      "cell_type": "code",
      "execution_count": null,
      "metadata": {
        "id": "3aFDX1MM2V3-"
      },
      "outputs": [],
      "source": [
        "# Aquí va tu código"
      ]
    },
    {
      "cell_type": "markdown",
      "metadata": {
        "id": "rfylSmC12V3-"
      },
      "source": [
        "## Ejercicio 2\n",
        "\n",
        "La siguiente función genera una gráfica de `n` vértices, etiquetados del `1` hasta el `2n` de manera aleatoria. Cada par de vértices tiene una probabilidad `p` de estar conectado:"
      ]
    },
    {
      "cell_type": "code",
      "execution_count": null,
      "metadata": {
        "id": "4AalDvrG2V3-"
      },
      "outputs": [],
      "source": [
        "def random_graph(n, p, seed=42):\n",
        "    np.random.seed(seed)\n",
        "    g = nx.gnp_random_graph(n, p, seed=seed)\n",
        "    labels = np.random.choice(range(1, 2*n), n, replace=False)\n",
        "    mapping = {i: labels[i] for i in range(n)}\n",
        "    g = nx.relabel_nodes(g, mapping)\n",
        "    return g"
      ]
    },
    {
      "cell_type": "markdown",
      "metadata": {
        "id": "kZz4007z2V3-"
      },
      "source": [
        "La utilizamos para generar algunas gráficas:"
      ]
    },
    {
      "cell_type": "code",
      "execution_count": null,
      "metadata": {
        "id": "MAKwXHyN2V3-"
      },
      "outputs": [],
      "source": [
        "g1 = random_graph(5, 0.4)\n",
        "g2 = random_graph(10, 0.3)\n",
        "g3 = random_graph(15, 0.2)"
      ]
    },
    {
      "cell_type": "markdown",
      "metadata": {
        "id": "4Dz71yu02V3-"
      },
      "source": [
        "Escribe una función que tome una gráfica $G$, tome cada nodo y lo multiplique por todos sus adyacentes, y regrese la suma de todos estos productos. En caso de que un vértice no tenga ningún nodo adyacente, toma su valor original.\n",
        "\n",
        "Por ejemplo, supongamos que tenemos la gráfica $G$:"
      ]
    },
    {
      "cell_type": "code",
      "execution_count": null,
      "metadata": {
        "id": "LZdVa2JR2V3-"
      },
      "outputs": [],
      "source": [
        "G = nx.Graph()\n",
        "G.add_nodes_from([1,2,3,4,5,6])\n",
        "G.add_edges_from([(1, 2), (2, 3), (3, 4), (4, 6), (2, 6), (2, 4)])\n",
        "\n",
        "pos = {1: (0,0), 2:(1,0), 3:(0,1), 4:(1,1), 5:(2,0), 6:(2,1)}\n",
        "nx.draw(G, with_labels=True, pos=pos)"
      ]
    },
    {
      "cell_type": "markdown",
      "metadata": {
        "id": "AI9xfKqd2V3_"
      },
      "source": [
        "Lo que debe de regresar tu función es:\n",
        "\n",
        "$$\n",
        "\\begin{align}\n",
        "    &(1 \\cdot 2)\\\\\n",
        "    +\\ &(2 \\cdot 1 \\cdot 3 \\cdot 4 \\cdot 6)\\\\\n",
        "    +\\ &(3 \\cdot 2 \\cdot 4)\\\\\n",
        "    +\\ &(4 \\cdot 2 \\cdot 3 \\cdot 6)\\\\\n",
        "    +\\ &5\\\\\n",
        "    +\\ &(6 \\cdot 2 \\cdot 4) \\\\\n",
        "    =\\ &367\n",
        "\\end{align}\n",
        "$$"
      ]
    },
    {
      "cell_type": "code",
      "execution_count": 84,
      "metadata": {
        "id": "eyNCWIKm2V3_"
      },
      "outputs": [],
      "source": [
        "def graph_sum(G):\n",
        "    ### Aquí va tu código\n",
        "    total_sum = 0\n",
        "\n",
        "    for node in G.nodes():\n",
        "        # Obtener la vecindad del vertice\n",
        "        neighbors = list(G.neighbors(node))\n",
        "\n",
        "        if len(neighbors) > 0:\n",
        "            # Si tiene vecinos, multiplicamos el vertice por todos sus vecinos\n",
        "            product = node\n",
        "            for neighbor in neighbors:\n",
        "                product *= neighbor\n",
        "            total_sum += product\n",
        "        else:\n",
        "            # Si no tiene vecinos, sumamos el valor del vertice.\n",
        "            total_sum += node\n",
        "\n",
        "    return total_sum"
      ]
    },
    {
      "cell_type": "code",
      "execution_count": 85,
      "metadata": {
        "tags": [],
        "id": "b9V7PsO62V3_",
        "outputId": "5652e5e6-e67e-4bae-8859-3ae25f6e6e4c",
        "colab": {
          "base_uri": "https://localhost:8080/"
        }
      },
      "outputs": [
        {
          "output_type": "stream",
          "name": "stdout",
          "text": [
            "Resultado obtenido para la gráfica 1: 986. Esperado: 986\n",
            "Resultado obtenido para la gráfica 2: 1377825. Esperado: 1377825\n",
            "Resultado obtenido para la gráfica 3: 5344401. Esperado: 5344401\n"
          ]
        }
      ],
      "source": [
        "# No alteres esta celda\n",
        "\n",
        "print(f\"\"\"\\\n",
        "Resultado obtenido para la gráfica 1: {graph_sum(g1)}. Esperado: 986\n",
        "Resultado obtenido para la gráfica 2: {graph_sum(g2)}. Esperado: 1377825\n",
        "Resultado obtenido para la gráfica 3: {graph_sum(g3)}. Esperado: 5344401\\\n",
        "\"\"\"\n",
        ")"
      ]
    },
    {
      "cell_type": "markdown",
      "metadata": {
        "id": "ock7hKMr2V3_"
      },
      "source": [
        "## Ejercicio 3"
      ]
    },
    {
      "cell_type": "markdown",
      "metadata": {
        "id": "zSA6lXfA2V3_"
      },
      "source": [
        "Escribe una función que, dada una gráfica $G$, genere su [complemento](https://en.wikipedia.org/wiki/Complement_graph). Compara tu resultado con la función `nx.complement` (para comparar tendrás que usar la función `nx.is_isomorphic`, de otra manera regresará que no son iguales, a pesar de tener los mismos vértices y aristas)."
      ]
    },
    {
      "cell_type": "code",
      "execution_count": 88,
      "metadata": {
        "id": "Qvhav5Cz2V3_"
      },
      "outputs": [],
      "source": [
        "def graph_complement(G):\n",
        "    ### Aquí va tu código\n",
        "    # Crear una nueva gráfica con los mismos vertices\n",
        "    complement_G = nx.Graph()\n",
        "    complement_G.add_nodes_from(G.nodes())\n",
        "\n",
        "    # Obtener todos los posibles relaciones dos a dos de los vertices\n",
        "    nodes = list(G.nodes())\n",
        "    n = len(nodes)\n",
        "\n",
        "    # Para todo par de vertices relacionados\n",
        "    for i in range(n):\n",
        "        for j in range(i + 1, n):\n",
        "            node_i = nodes[i]\n",
        "            node_j = nodes[j]\n",
        "\n",
        "            # Agregamos una arista solo si no esta en el grafo orginal\n",
        "            if not G.has_edge(node_i, node_j):\n",
        "                complement_G.add_edge(node_i, node_j)\n",
        "\n",
        "    return complement_G"
      ]
    },
    {
      "cell_type": "code",
      "execution_count": 87,
      "metadata": {
        "id": "9e0GQ-HV2V3_",
        "outputId": "d34e8694-4ab9-4190-bbc1-f26f4b3db905",
        "colab": {
          "base_uri": "https://localhost:8080/"
        }
      },
      "outputs": [
        {
          "output_type": "stream",
          "name": "stdout",
          "text": [
            "La gráfica obtenida con nuestra función es isomorfa a la obtenida con NetworkX:\n",
            "Gráfica 1: Verdadero\n",
            "Gráfica 2: Verdadero\n",
            "Gráfica 2: Verdadero\n"
          ]
        }
      ],
      "source": [
        "# No alteres esta celda\n",
        "ans = [\"Falso\", \"Verdadero\"]\n",
        "\n",
        "print(\n",
        "f\"\"\"\\\n",
        "La gráfica obtenida con nuestra función es isomorfa a la obtenida con NetworkX:\n",
        "Gráfica 1: {ans[nx.is_isomorphic(nx.complement(g1), graph_complement(g1))]}\n",
        "Gráfica 2: {ans[nx.is_isomorphic(nx.complement(g2), graph_complement(g2))]}\n",
        "Gráfica 2: {ans[nx.is_isomorphic(nx.complement(g3), graph_complement(g3))]}\\\n",
        "\"\"\")"
      ]
    }
  ],
  "metadata": {
    "colab": {
      "name": "Explorando NetworkX.ipynb",
      "provenance": [],
      "include_colab_link": true
    },
    "kernelspec": {
      "display_name": "Python 3 (ipykernel)",
      "language": "python",
      "name": "python3"
    },
    "language_info": {
      "codemirror_mode": {
        "name": "ipython",
        "version": 3
      },
      "file_extension": ".py",
      "mimetype": "text/x-python",
      "name": "python",
      "nbconvert_exporter": "python",
      "pygments_lexer": "ipython3",
      "version": "3.11.4"
    }
  },
  "nbformat": 4,
  "nbformat_minor": 0
}